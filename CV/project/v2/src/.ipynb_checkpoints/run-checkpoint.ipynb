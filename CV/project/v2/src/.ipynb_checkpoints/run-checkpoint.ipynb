{
 "cells": [
  {
   "cell_type": "markdown",
   "metadata": {},
   "source": [
    "# H02A5A Computer Vision Project - Incisor Segmentation\n",
    "\n",
    "## Imports"
   ]
  },
  {
   "cell_type": "code",
   "execution_count": 1,
   "metadata": {
    "collapsed": false
   },
   "outputs": [
    {
     "ename": "ImportError",
     "evalue": "No module named geometry",
     "output_type": "error",
     "traceback": [
      "\u001b[1;31m---------------------------------------------------------------------------\u001b[0m",
      "\u001b[1;31mImportError\u001b[0m                               Traceback (most recent call last)",
      "\u001b[1;32m<ipython-input-1-cb0ffa7eda1f>\u001b[0m in \u001b[0;36m<module>\u001b[1;34m()\u001b[0m\n\u001b[0;32m      6\u001b[0m \u001b[1;32mfrom\u001b[0m \u001b[0masm\u001b[0m\u001b[1;33m.\u001b[0m\u001b[0mshape\u001b[0m \u001b[1;32mimport\u001b[0m \u001b[0mShape\u001b[0m\u001b[1;33m\u001b[0m\u001b[0m\n\u001b[0;32m      7\u001b[0m \u001b[1;32mfrom\u001b[0m \u001b[0masm\u001b[0m\u001b[1;33m.\u001b[0m\u001b[0mshapemodel\u001b[0m \u001b[1;32mimport\u001b[0m \u001b[0mActiveShapeModel\u001b[0m\u001b[1;33m\u001b[0m\u001b[0m\n\u001b[1;32m----> 8\u001b[1;33m \u001b[1;32mimport\u001b[0m \u001b[0masm\u001b[0m\u001b[1;33m.\u001b[0m\u001b[0mgeometry\u001b[0m\u001b[1;33m\u001b[0m\u001b[0m\n\u001b[0m",
      "\u001b[1;31mImportError\u001b[0m: No module named geometry"
     ]
    }
   ],
   "source": [
    "%matplotlib inline\n",
    "import numpy as np\n",
    "import cv2\n",
    "from incisorseg.dataset import Dataset\n",
    "from incisorseg.utils import *\n",
    "from asm.shape import Shape\n",
    "from asm.shapemodel import ActiveShapeModel"
   ]
  },
  {
   "cell_type": "markdown",
   "metadata": {},
   "source": [
    "## Reading the dataset"
   ]
  },
  {
   "cell_type": "code",
   "execution_count": null,
   "metadata": {
    "collapsed": false
   },
   "outputs": [],
   "source": [
    "#data = Dataset('/home/bharath/workspace/CV/Project/data/')\n",
    "data = Dataset('/home/r0607273/workspace/cv/Project/data/')"
   ]
  },
  {
   "cell_type": "markdown",
   "metadata": {},
   "source": [
    "## Sample plots"
   ]
  },
  {
   "cell_type": "code",
   "execution_count": null,
   "metadata": {
    "collapsed": false
   },
   "outputs": [],
   "source": [
    "img,mimg = data.get_training_images([0])\n",
    "l,ml = data.get_training_image_landmarks([0],Dataset.ALL_TEETH)\n",
    "lc,mlc = data.get_training_image_landmarks([0],Dataset.ALL_TEETH,True)\n",
    "plot_shapes(lc)\n",
    "imshow2(overlay_shapes_on_image(img[0],lc))\n",
    "plot_shapes(mlc)\n",
    "imshow2(overlay_shapes_on_image(mimg[0],mlc))\n",
    "print img[0].shape"
   ]
  },
  {
   "cell_type": "markdown",
   "metadata": {},
   "source": [
    "## Shape Model\n",
    "All 8 teeth"
   ]
  },
  {
   "cell_type": "code",
   "execution_count": null,
   "metadata": {
    "collapsed": false
   },
   "outputs": [],
   "source": [
    "lc,mlc = data.get_training_image_landmarks(Dataset.ALL_TRAINING_IMAGES,Dataset.ALL_TEETH,True)\n",
    "landmarks = lc + mlc\n",
    "model = ActiveShapeModel(landmarks)\n",
    "plot_shapes(model.aligned_shapes())\n",
    "#plot_shapes([model.mean_shape()])\n",
    "plot_shapes(model.mode_shapes(1))\n",
    "plot_shapes(model.mode_shapes(2))\n",
    "plot_shapes(model.mode_shapes(3))"
   ]
  },
  {
   "cell_type": "code",
   "execution_count": null,
   "metadata": {
    "collapsed": false
   },
   "outputs": [],
   "source": [
    "#sample = cv2.pyrDown(cv2.pyrDown(data.get_extra_images([0])[0]))#[650:1300,1200:1800]\n",
    "#imshow2(cv2.Laplacian(cv2.bilateralFilter(sample,5,30,30),2))\n",
    "#imshow2(cv2.morphologyEx(cv2.Canny(cv2.bilateralFilter(sample,9,30,30),20,20),cv2.MORPH_CLOSE, cv2.getStructuringElement(cv2.MORPH_ELLIPSE,(20,20))))\n",
    "#imshow2(cv2.Canny(cv2.bilateralFilter(sample,5,30,30),10,20))"
   ]
  },
  {
   "cell_type": "code",
   "execution_count": null,
   "metadata": {
    "collapsed": false
   },
   "outputs": [],
   "source": [
    "def get_point_normal_pixel_coordinates(shape,point_index,nn,np):\n",
    "    point = shape.get_point(point_index)\n",
    "    neighborhood = shape._get_neighborhood(point_index, nn)\n",
    "    line = cv2.fitLine(np.array(neighborhood), cv2.cv.CV_DIST_L2, 0, 0.01, 0.01);\n",
    "    slope = line[0:2] / np.sqrt(np.sum(line[0:2] ** 2))\n",
    "    return [[int(point[1] + (incr * slope[0]) + 0.5), int(point[0] - (incr * slope[1]) + 0.5)] for incr in\n",
    "            range(-np, np + 1)]\n",
    "\n",
    "img,_ = data.get_training_images([0])\n",
    "l,_ = data.get_training_image_landmarks([0],[0])\n",
    "shape = l[0][0]\n",
    "\n",
    "get_point_normal_pixel_coordinates(shape,1,2,5)"
   ]
  }
 ],
 "metadata": {
  "kernelspec": {
   "display_name": "Python 2",
   "language": "python",
   "name": "python2"
  },
  "language_info": {
   "codemirror_mode": {
    "name": "ipython",
    "version": 2
   },
   "file_extension": ".py",
   "mimetype": "text/x-python",
   "name": "python",
   "nbconvert_exporter": "python",
   "pygments_lexer": "ipython2",
   "version": "2.7.6"
  }
 },
 "nbformat": 4,
 "nbformat_minor": 0
}
